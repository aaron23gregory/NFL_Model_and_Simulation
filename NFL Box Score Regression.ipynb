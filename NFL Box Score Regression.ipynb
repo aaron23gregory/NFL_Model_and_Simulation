{
 "cells": [
  {
   "cell_type": "markdown",
   "id": "0ef593bb",
   "metadata": {},
   "source": [
    "# DSC540 Final Project"
   ]
  },
  {
   "cell_type": "markdown",
   "id": "26ac1bf4",
   "metadata": {},
   "source": [
    "#### Aaron Gregory"
   ]
  },
  {
   "cell_type": "markdown",
   "id": "38bcfea4",
   "metadata": {},
   "source": [
    "The goal of this project is to create a model using NFL box score data from 2017-2021 to predict how much a team scores in a given game. This can then be leveraged for betting purposes or to see what areas of a game impact scoring the most. I scraped the box score data from https://www.pro-football-reference.com/ and saved it into a CSV previously. The data includes lots of raw counting statistics like total yards opponent's turnovers 1st downs etc. The data set also includes some more advanced metrics like offensive, deffensive and special teams efficency which do a better job looking at the play to play success of a team.\n",
    "\n",
    "Trying to model scores of these games is inherently dificult do to the randomness of a game that is not always able to be captured in a box score. If a team has a great drive but has a turnover right before the endzone the box score will probably look good even though the team didn't score. For that purpose I tried to lessen the impact of the outliers as it is more important to have our model be good for the large chunk of the bell curve and not the extreams."
   ]
  },
  {
   "cell_type": "code",
   "execution_count": 9,
   "id": "5331caff",
   "metadata": {},
   "outputs": [],
   "source": [
    "import pandas as pd\n",
    "import numpy as np\n",
    "import matplotlib.pyplot as plt\n",
    "import seaborn as sns\n",
    "from sklearn import metrics\n",
    "from sklearn.model_selection import train_test_split\n",
    "from sklearn.preprocessing import StandardScaler\n",
    "from sklearn.model_selection import GridSearchCV\n",
    "import warnings\n",
    "warnings.filterwarnings('ignore')"
   ]
  },
  {
   "cell_type": "code",
   "execution_count": 53,
   "id": "51bed195",
   "metadata": {},
   "outputs": [
    {
     "data": {
      "text/html": [
       "<div>\n",
       "<style scoped>\n",
       "    .dataframe tbody tr th:only-of-type {\n",
       "        vertical-align: middle;\n",
       "    }\n",
       "\n",
       "    .dataframe tbody tr th {\n",
       "        vertical-align: top;\n",
       "    }\n",
       "\n",
       "    .dataframe thead th {\n",
       "        text-align: right;\n",
       "    }\n",
       "</style>\n",
       "<table border=\"1\" class=\"dataframe\">\n",
       "  <thead>\n",
       "    <tr style=\"text-align: right;\">\n",
       "      <th></th>\n",
       "      <th>Offense</th>\n",
       "      <th>Defense</th>\n",
       "      <th>Tm</th>\n",
       "      <th>OppScore</th>\n",
       "      <th>Sp. Tms</th>\n",
       "      <th>TO</th>\n",
       "      <th>1stD</th>\n",
       "      <th>TotYd</th>\n",
       "      <th>PassY</th>\n",
       "      <th>RushY</th>\n",
       "      <th>Opp1stD</th>\n",
       "      <th>OppTotYd</th>\n",
       "      <th>OppPassY</th>\n",
       "      <th>OppRushY</th>\n",
       "      <th>OppTO</th>\n",
       "      <th>Opp</th>\n",
       "      <th>Team</th>\n",
       "    </tr>\n",
       "  </thead>\n",
       "  <tbody>\n",
       "    <tr>\n",
       "      <th>0</th>\n",
       "      <td>-7.26</td>\n",
       "      <td>3.11</td>\n",
       "      <td>12.0</td>\n",
       "      <td>18.0</td>\n",
       "      <td>2.58</td>\n",
       "      <td>1.0</td>\n",
       "      <td>16.0</td>\n",
       "      <td>299.0</td>\n",
       "      <td>225.0</td>\n",
       "      <td>74.0</td>\n",
       "      <td>18.0</td>\n",
       "      <td>232.0</td>\n",
       "      <td>119.0</td>\n",
       "      <td>113.0</td>\n",
       "      <td>2.0</td>\n",
       "      <td>Philadelphia Eagles</td>\n",
       "      <td>atl</td>\n",
       "    </tr>\n",
       "    <tr>\n",
       "      <th>1</th>\n",
       "      <td>22.04</td>\n",
       "      <td>-12.68</td>\n",
       "      <td>31.0</td>\n",
       "      <td>24.0</td>\n",
       "      <td>-4.66</td>\n",
       "      <td>1.0</td>\n",
       "      <td>23.0</td>\n",
       "      <td>442.0</td>\n",
       "      <td>272.0</td>\n",
       "      <td>170.0</td>\n",
       "      <td>27.0</td>\n",
       "      <td>439.0</td>\n",
       "      <td>318.0</td>\n",
       "      <td>121.0</td>\n",
       "      <td>1.0</td>\n",
       "      <td>Carolina Panthers</td>\n",
       "      <td>atl</td>\n",
       "    </tr>\n",
       "    <tr>\n",
       "      <th>2</th>\n",
       "      <td>20.31</td>\n",
       "      <td>-26.85</td>\n",
       "      <td>37.0</td>\n",
       "      <td>43.0</td>\n",
       "      <td>0.47</td>\n",
       "      <td>0.0</td>\n",
       "      <td>24.0</td>\n",
       "      <td>407.0</td>\n",
       "      <td>359.0</td>\n",
       "      <td>48.0</td>\n",
       "      <td>32.0</td>\n",
       "      <td>534.0</td>\n",
       "      <td>391.0</td>\n",
       "      <td>143.0</td>\n",
       "      <td>0.0</td>\n",
       "      <td>New Orleans Saints</td>\n",
       "      <td>atl</td>\n",
       "    </tr>\n",
       "    <tr>\n",
       "      <th>3</th>\n",
       "      <td>24.63</td>\n",
       "      <td>-22.54</td>\n",
       "      <td>36.0</td>\n",
       "      <td>37.0</td>\n",
       "      <td>1.75</td>\n",
       "      <td>0.0</td>\n",
       "      <td>25.0</td>\n",
       "      <td>495.0</td>\n",
       "      <td>403.0</td>\n",
       "      <td>92.0</td>\n",
       "      <td>30.0</td>\n",
       "      <td>407.0</td>\n",
       "      <td>308.0</td>\n",
       "      <td>99.0</td>\n",
       "      <td>1.0</td>\n",
       "      <td>Cincinnati Bengals</td>\n",
       "      <td>atl</td>\n",
       "    </tr>\n",
       "    <tr>\n",
       "      <th>4</th>\n",
       "      <td>-1.13</td>\n",
       "      <td>-20.96</td>\n",
       "      <td>17.0</td>\n",
       "      <td>41.0</td>\n",
       "      <td>-0.44</td>\n",
       "      <td>1.0</td>\n",
       "      <td>22.0</td>\n",
       "      <td>324.0</td>\n",
       "      <td>262.0</td>\n",
       "      <td>62.0</td>\n",
       "      <td>22.0</td>\n",
       "      <td>381.0</td>\n",
       "      <td>250.0</td>\n",
       "      <td>131.0</td>\n",
       "      <td>1.0</td>\n",
       "      <td>Pittsburgh Steelers</td>\n",
       "      <td>atl</td>\n",
       "    </tr>\n",
       "  </tbody>\n",
       "</table>\n",
       "</div>"
      ],
      "text/plain": [
       "   Offense  Defense    Tm  OppScore  Sp. Tms   TO  1stD  TotYd  PassY  RushY  \\\n",
       "0    -7.26     3.11  12.0      18.0     2.58  1.0  16.0  299.0  225.0   74.0   \n",
       "1    22.04   -12.68  31.0      24.0    -4.66  1.0  23.0  442.0  272.0  170.0   \n",
       "2    20.31   -26.85  37.0      43.0     0.47  0.0  24.0  407.0  359.0   48.0   \n",
       "3    24.63   -22.54  36.0      37.0     1.75  0.0  25.0  495.0  403.0   92.0   \n",
       "4    -1.13   -20.96  17.0      41.0    -0.44  1.0  22.0  324.0  262.0   62.0   \n",
       "\n",
       "   Opp1stD  OppTotYd  OppPassY  OppRushY  OppTO                  Opp Team  \n",
       "0     18.0     232.0     119.0     113.0    2.0  Philadelphia Eagles  atl  \n",
       "1     27.0     439.0     318.0     121.0    1.0    Carolina Panthers  atl  \n",
       "2     32.0     534.0     391.0     143.0    0.0   New Orleans Saints  atl  \n",
       "3     30.0     407.0     308.0      99.0    1.0   Cincinnati Bengals  atl  \n",
       "4     22.0     381.0     250.0     131.0    1.0  Pittsburgh Steelers  atl  "
      ]
     },
     "execution_count": 53,
     "metadata": {},
     "output_type": "execute_result"
    }
   ],
   "source": [
    "df = pd.read_csv('NFL_boxscores_2018_2022.csv',sep=\"\\t\")\n",
    "df = df.drop(\"Unnamed: 0\",axis=1)\n",
    "df.head()"
   ]
  },
  {
   "cell_type": "code",
   "execution_count": 54,
   "id": "8061e63e",
   "metadata": {},
   "outputs": [
    {
     "data": {
      "text/plain": [
       "Offense     0\n",
       "Defense     0\n",
       "Tm          0\n",
       "OppScore    0\n",
       "Sp. Tms     0\n",
       "TO          0\n",
       "1stD        0\n",
       "TotYd       0\n",
       "PassY       0\n",
       "RushY       0\n",
       "Opp1stD     0\n",
       "OppTotYd    0\n",
       "OppPassY    0\n",
       "OppRushY    0\n",
       "OppTO       0\n",
       "Opp         0\n",
       "Team        0\n",
       "dtype: int64"
      ]
     },
     "execution_count": 54,
     "metadata": {},
     "output_type": "execute_result"
    }
   ],
   "source": [
    "#There are no missing data\n",
    "df.isnull().sum()"
   ]
  },
  {
   "cell_type": "code",
   "execution_count": 55,
   "id": "8c0e9d2b",
   "metadata": {},
   "outputs": [
    {
     "name": "stdout",
     "output_type": "stream",
     "text": [
      "AxesSubplot(0.125,0.125;0.62x0.755)\n"
     ]
    },
    {
     "data": {
      "text/html": [
       "<div>\n",
       "<style scoped>\n",
       "    .dataframe tbody tr th:only-of-type {\n",
       "        vertical-align: middle;\n",
       "    }\n",
       "\n",
       "    .dataframe tbody tr th {\n",
       "        vertical-align: top;\n",
       "    }\n",
       "\n",
       "    .dataframe thead th {\n",
       "        text-align: right;\n",
       "    }\n",
       "</style>\n",
       "<table border=\"1\" class=\"dataframe\">\n",
       "  <thead>\n",
       "    <tr style=\"text-align: right;\">\n",
       "      <th></th>\n",
       "      <th>Offense</th>\n",
       "      <th>Defense</th>\n",
       "      <th>Tm</th>\n",
       "      <th>OppScore</th>\n",
       "      <th>Sp. Tms</th>\n",
       "      <th>TO</th>\n",
       "      <th>1stD</th>\n",
       "      <th>TotYd</th>\n",
       "      <th>PassY</th>\n",
       "      <th>RushY</th>\n",
       "      <th>Opp1stD</th>\n",
       "      <th>OppTotYd</th>\n",
       "      <th>OppPassY</th>\n",
       "      <th>OppRushY</th>\n",
       "      <th>OppTO</th>\n",
       "    </tr>\n",
       "  </thead>\n",
       "  <tbody>\n",
       "    <tr>\n",
       "      <th>Offense</th>\n",
       "      <td>1.000000</td>\n",
       "      <td>-0.115324</td>\n",
       "      <td>0.800096</td>\n",
       "      <td>-0.097135</td>\n",
       "      <td>-0.294530</td>\n",
       "      <td>-0.458921</td>\n",
       "      <td>0.690294</td>\n",
       "      <td>0.737889</td>\n",
       "      <td>0.530928</td>\n",
       "      <td>0.393341</td>\n",
       "      <td>0.095060</td>\n",
       "      <td>0.069500</td>\n",
       "      <td>0.187832</td>\n",
       "      <td>-0.171287</td>\n",
       "      <td>0.040467</td>\n",
       "    </tr>\n",
       "    <tr>\n",
       "      <th>Defense</th>\n",
       "      <td>-0.115324</td>\n",
       "      <td>1.000000</td>\n",
       "      <td>0.097135</td>\n",
       "      <td>-0.800096</td>\n",
       "      <td>-0.294530</td>\n",
       "      <td>-0.040467</td>\n",
       "      <td>-0.095060</td>\n",
       "      <td>-0.069500</td>\n",
       "      <td>-0.187832</td>\n",
       "      <td>0.171287</td>\n",
       "      <td>-0.690294</td>\n",
       "      <td>-0.737889</td>\n",
       "      <td>-0.530928</td>\n",
       "      <td>-0.393341</td>\n",
       "      <td>0.458921</td>\n",
       "    </tr>\n",
       "    <tr>\n",
       "      <th>Tm</th>\n",
       "      <td>0.800096</td>\n",
       "      <td>0.097135</td>\n",
       "      <td>1.000000</td>\n",
       "      <td>-0.022330</td>\n",
       "      <td>-0.115333</td>\n",
       "      <td>-0.296311</td>\n",
       "      <td>0.589876</td>\n",
       "      <td>0.652176</td>\n",
       "      <td>0.447024</td>\n",
       "      <td>0.381256</td>\n",
       "      <td>0.060381</td>\n",
       "      <td>0.058888</td>\n",
       "      <td>0.198171</td>\n",
       "      <td>-0.204114</td>\n",
       "      <td>0.308455</td>\n",
       "    </tr>\n",
       "    <tr>\n",
       "      <th>OppScore</th>\n",
       "      <td>-0.097135</td>\n",
       "      <td>-0.800096</td>\n",
       "      <td>-0.022330</td>\n",
       "      <td>1.000000</td>\n",
       "      <td>0.115333</td>\n",
       "      <td>0.308455</td>\n",
       "      <td>0.060381</td>\n",
       "      <td>0.058888</td>\n",
       "      <td>0.198171</td>\n",
       "      <td>-0.204114</td>\n",
       "      <td>0.589876</td>\n",
       "      <td>0.652176</td>\n",
       "      <td>0.447024</td>\n",
       "      <td>0.381256</td>\n",
       "      <td>-0.296311</td>\n",
       "    </tr>\n",
       "    <tr>\n",
       "      <th>Sp. Tms</th>\n",
       "      <td>-0.294530</td>\n",
       "      <td>-0.294530</td>\n",
       "      <td>-0.115333</td>\n",
       "      <td>0.115333</td>\n",
       "      <td>1.000000</td>\n",
       "      <td>-0.001353</td>\n",
       "      <td>-0.320264</td>\n",
       "      <td>-0.360283</td>\n",
       "      <td>-0.284271</td>\n",
       "      <td>-0.154205</td>\n",
       "      <td>0.320264</td>\n",
       "      <td>0.360283</td>\n",
       "      <td>0.284271</td>\n",
       "      <td>0.154205</td>\n",
       "      <td>0.001353</td>\n",
       "    </tr>\n",
       "    <tr>\n",
       "      <th>TO</th>\n",
       "      <td>-0.458921</td>\n",
       "      <td>-0.040467</td>\n",
       "      <td>-0.296311</td>\n",
       "      <td>0.308455</td>\n",
       "      <td>-0.001353</td>\n",
       "      <td>1.000000</td>\n",
       "      <td>-0.052077</td>\n",
       "      <td>-0.050459</td>\n",
       "      <td>0.045651</td>\n",
       "      <td>-0.150783</td>\n",
       "      <td>-0.029859</td>\n",
       "      <td>-0.023680</td>\n",
       "      <td>-0.103685</td>\n",
       "      <td>0.118351</td>\n",
       "      <td>-0.108985</td>\n",
       "    </tr>\n",
       "    <tr>\n",
       "      <th>1stD</th>\n",
       "      <td>0.690294</td>\n",
       "      <td>-0.095060</td>\n",
       "      <td>0.589876</td>\n",
       "      <td>0.060381</td>\n",
       "      <td>-0.320264</td>\n",
       "      <td>-0.052077</td>\n",
       "      <td>1.000000</td>\n",
       "      <td>0.802428</td>\n",
       "      <td>0.623980</td>\n",
       "      <td>0.357282</td>\n",
       "      <td>-0.089673</td>\n",
       "      <td>-0.043247</td>\n",
       "      <td>0.065023</td>\n",
       "      <td>-0.168378</td>\n",
       "      <td>-0.029859</td>\n",
       "    </tr>\n",
       "    <tr>\n",
       "      <th>TotYd</th>\n",
       "      <td>0.737889</td>\n",
       "      <td>-0.069500</td>\n",
       "      <td>0.652176</td>\n",
       "      <td>0.058888</td>\n",
       "      <td>-0.360283</td>\n",
       "      <td>-0.050459</td>\n",
       "      <td>0.802428</td>\n",
       "      <td>1.000000</td>\n",
       "      <td>0.798332</td>\n",
       "      <td>0.413936</td>\n",
       "      <td>-0.043247</td>\n",
       "      <td>0.006310</td>\n",
       "      <td>0.119809</td>\n",
       "      <td>-0.170876</td>\n",
       "      <td>-0.023680</td>\n",
       "    </tr>\n",
       "    <tr>\n",
       "      <th>PassY</th>\n",
       "      <td>0.530928</td>\n",
       "      <td>-0.187832</td>\n",
       "      <td>0.447024</td>\n",
       "      <td>0.198171</td>\n",
       "      <td>-0.284271</td>\n",
       "      <td>0.045651</td>\n",
       "      <td>0.623980</td>\n",
       "      <td>0.798332</td>\n",
       "      <td>1.000000</td>\n",
       "      <td>-0.217744</td>\n",
       "      <td>0.065023</td>\n",
       "      <td>0.119809</td>\n",
       "      <td>0.153644</td>\n",
       "      <td>-0.038073</td>\n",
       "      <td>-0.103685</td>\n",
       "    </tr>\n",
       "    <tr>\n",
       "      <th>RushY</th>\n",
       "      <td>0.393341</td>\n",
       "      <td>0.171287</td>\n",
       "      <td>0.381256</td>\n",
       "      <td>-0.204114</td>\n",
       "      <td>-0.154205</td>\n",
       "      <td>-0.150783</td>\n",
       "      <td>0.357282</td>\n",
       "      <td>0.413936</td>\n",
       "      <td>-0.217744</td>\n",
       "      <td>1.000000</td>\n",
       "      <td>-0.168378</td>\n",
       "      <td>-0.170876</td>\n",
       "      <td>-0.038073</td>\n",
       "      <td>-0.219385</td>\n",
       "      <td>0.118351</td>\n",
       "    </tr>\n",
       "    <tr>\n",
       "      <th>Opp1stD</th>\n",
       "      <td>0.095060</td>\n",
       "      <td>-0.690294</td>\n",
       "      <td>0.060381</td>\n",
       "      <td>0.589876</td>\n",
       "      <td>0.320264</td>\n",
       "      <td>-0.029859</td>\n",
       "      <td>-0.089673</td>\n",
       "      <td>-0.043247</td>\n",
       "      <td>0.065023</td>\n",
       "      <td>-0.168378</td>\n",
       "      <td>1.000000</td>\n",
       "      <td>0.802428</td>\n",
       "      <td>0.623980</td>\n",
       "      <td>0.357282</td>\n",
       "      <td>-0.052077</td>\n",
       "    </tr>\n",
       "    <tr>\n",
       "      <th>OppTotYd</th>\n",
       "      <td>0.069500</td>\n",
       "      <td>-0.737889</td>\n",
       "      <td>0.058888</td>\n",
       "      <td>0.652176</td>\n",
       "      <td>0.360283</td>\n",
       "      <td>-0.023680</td>\n",
       "      <td>-0.043247</td>\n",
       "      <td>0.006310</td>\n",
       "      <td>0.119809</td>\n",
       "      <td>-0.170876</td>\n",
       "      <td>0.802428</td>\n",
       "      <td>1.000000</td>\n",
       "      <td>0.798332</td>\n",
       "      <td>0.413936</td>\n",
       "      <td>-0.050459</td>\n",
       "    </tr>\n",
       "    <tr>\n",
       "      <th>OppPassY</th>\n",
       "      <td>0.187832</td>\n",
       "      <td>-0.530928</td>\n",
       "      <td>0.198171</td>\n",
       "      <td>0.447024</td>\n",
       "      <td>0.284271</td>\n",
       "      <td>-0.103685</td>\n",
       "      <td>0.065023</td>\n",
       "      <td>0.119809</td>\n",
       "      <td>0.153644</td>\n",
       "      <td>-0.038073</td>\n",
       "      <td>0.623980</td>\n",
       "      <td>0.798332</td>\n",
       "      <td>1.000000</td>\n",
       "      <td>-0.217744</td>\n",
       "      <td>0.045651</td>\n",
       "    </tr>\n",
       "    <tr>\n",
       "      <th>OppRushY</th>\n",
       "      <td>-0.171287</td>\n",
       "      <td>-0.393341</td>\n",
       "      <td>-0.204114</td>\n",
       "      <td>0.381256</td>\n",
       "      <td>0.154205</td>\n",
       "      <td>0.118351</td>\n",
       "      <td>-0.168378</td>\n",
       "      <td>-0.170876</td>\n",
       "      <td>-0.038073</td>\n",
       "      <td>-0.219385</td>\n",
       "      <td>0.357282</td>\n",
       "      <td>0.413936</td>\n",
       "      <td>-0.217744</td>\n",
       "      <td>1.000000</td>\n",
       "      <td>-0.150783</td>\n",
       "    </tr>\n",
       "    <tr>\n",
       "      <th>OppTO</th>\n",
       "      <td>0.040467</td>\n",
       "      <td>0.458921</td>\n",
       "      <td>0.308455</td>\n",
       "      <td>-0.296311</td>\n",
       "      <td>0.001353</td>\n",
       "      <td>-0.108985</td>\n",
       "      <td>-0.029859</td>\n",
       "      <td>-0.023680</td>\n",
       "      <td>-0.103685</td>\n",
       "      <td>0.118351</td>\n",
       "      <td>-0.052077</td>\n",
       "      <td>-0.050459</td>\n",
       "      <td>0.045651</td>\n",
       "      <td>-0.150783</td>\n",
       "      <td>1.000000</td>\n",
       "    </tr>\n",
       "  </tbody>\n",
       "</table>\n",
       "</div>"
      ],
      "text/plain": [
       "           Offense   Defense        Tm  OppScore   Sp. Tms        TO  \\\n",
       "Offense   1.000000 -0.115324  0.800096 -0.097135 -0.294530 -0.458921   \n",
       "Defense  -0.115324  1.000000  0.097135 -0.800096 -0.294530 -0.040467   \n",
       "Tm        0.800096  0.097135  1.000000 -0.022330 -0.115333 -0.296311   \n",
       "OppScore -0.097135 -0.800096 -0.022330  1.000000  0.115333  0.308455   \n",
       "Sp. Tms  -0.294530 -0.294530 -0.115333  0.115333  1.000000 -0.001353   \n",
       "TO       -0.458921 -0.040467 -0.296311  0.308455 -0.001353  1.000000   \n",
       "1stD      0.690294 -0.095060  0.589876  0.060381 -0.320264 -0.052077   \n",
       "TotYd     0.737889 -0.069500  0.652176  0.058888 -0.360283 -0.050459   \n",
       "PassY     0.530928 -0.187832  0.447024  0.198171 -0.284271  0.045651   \n",
       "RushY     0.393341  0.171287  0.381256 -0.204114 -0.154205 -0.150783   \n",
       "Opp1stD   0.095060 -0.690294  0.060381  0.589876  0.320264 -0.029859   \n",
       "OppTotYd  0.069500 -0.737889  0.058888  0.652176  0.360283 -0.023680   \n",
       "OppPassY  0.187832 -0.530928  0.198171  0.447024  0.284271 -0.103685   \n",
       "OppRushY -0.171287 -0.393341 -0.204114  0.381256  0.154205  0.118351   \n",
       "OppTO     0.040467  0.458921  0.308455 -0.296311  0.001353 -0.108985   \n",
       "\n",
       "              1stD     TotYd     PassY     RushY   Opp1stD  OppTotYd  \\\n",
       "Offense   0.690294  0.737889  0.530928  0.393341  0.095060  0.069500   \n",
       "Defense  -0.095060 -0.069500 -0.187832  0.171287 -0.690294 -0.737889   \n",
       "Tm        0.589876  0.652176  0.447024  0.381256  0.060381  0.058888   \n",
       "OppScore  0.060381  0.058888  0.198171 -0.204114  0.589876  0.652176   \n",
       "Sp. Tms  -0.320264 -0.360283 -0.284271 -0.154205  0.320264  0.360283   \n",
       "TO       -0.052077 -0.050459  0.045651 -0.150783 -0.029859 -0.023680   \n",
       "1stD      1.000000  0.802428  0.623980  0.357282 -0.089673 -0.043247   \n",
       "TotYd     0.802428  1.000000  0.798332  0.413936 -0.043247  0.006310   \n",
       "PassY     0.623980  0.798332  1.000000 -0.217744  0.065023  0.119809   \n",
       "RushY     0.357282  0.413936 -0.217744  1.000000 -0.168378 -0.170876   \n",
       "Opp1stD  -0.089673 -0.043247  0.065023 -0.168378  1.000000  0.802428   \n",
       "OppTotYd -0.043247  0.006310  0.119809 -0.170876  0.802428  1.000000   \n",
       "OppPassY  0.065023  0.119809  0.153644 -0.038073  0.623980  0.798332   \n",
       "OppRushY -0.168378 -0.170876 -0.038073 -0.219385  0.357282  0.413936   \n",
       "OppTO    -0.029859 -0.023680 -0.103685  0.118351 -0.052077 -0.050459   \n",
       "\n",
       "          OppPassY  OppRushY     OppTO  \n",
       "Offense   0.187832 -0.171287  0.040467  \n",
       "Defense  -0.530928 -0.393341  0.458921  \n",
       "Tm        0.198171 -0.204114  0.308455  \n",
       "OppScore  0.447024  0.381256 -0.296311  \n",
       "Sp. Tms   0.284271  0.154205  0.001353  \n",
       "TO       -0.103685  0.118351 -0.108985  \n",
       "1stD      0.065023 -0.168378 -0.029859  \n",
       "TotYd     0.119809 -0.170876 -0.023680  \n",
       "PassY     0.153644 -0.038073 -0.103685  \n",
       "RushY    -0.038073 -0.219385  0.118351  \n",
       "Opp1stD   0.623980  0.357282 -0.052077  \n",
       "OppTotYd  0.798332  0.413936 -0.050459  \n",
       "OppPassY  1.000000 -0.217744  0.045651  \n",
       "OppRushY -0.217744  1.000000 -0.150783  \n",
       "OppTO     0.045651 -0.150783  1.000000  "
      ]
     },
     "execution_count": 55,
     "metadata": {},
     "output_type": "execute_result"
    },
    {
     "data": {
      "image/png": "[encoded data removed]",
      "text/plain": [
       "<Figure size 432x288 with 2 Axes>"
      ]
     },
     "metadata": {
      "needs_background": "light"
     },
     "output_type": "display_data"
    }
   ],
   "source": [
    "print(sns.heatmap(df.corr()))\n",
    "df.corr()"
   ]
  },
  {
   "cell_type": "markdown",
   "id": "2590b821",
   "metadata": {},
   "source": [
    "Our heat map doesn't show anything too suprising. We would expect things like turnovers to be negatively correlated with offensive efficiency. Special teams being negativly correlated with offense and deffense is weird as I wouldn't think that there is a connection."
   ]
  },
  {
   "cell_type": "code",
   "execution_count": 56,
   "id": "6ed041ec",
   "metadata": {},
   "outputs": [
    {
     "name": "stdout",
     "output_type": "stream",
     "text": [
      "Correlations greater than 0.75 in the data set\n",
      "PassY     TotYd       0.798332\n",
      "OppTotYd  OppPassY    0.798332\n",
      "Tm        Offense     0.800096\n",
      "OppTotYd  Opp1stD     0.802428\n",
      "TotYd     1stD        0.802428\n",
      "dtype: float64\n"
     ]
    }
   ],
   "source": [
    "corr=df.corr().unstack().sort_values()[df.corr().unstack().sort_values()>0.75]\n",
    "print(\"Correlations greater than 0.75 in the data set\")\n",
    "print(corr[corr!=1].drop_duplicates())"
   ]
  },
  {
   "cell_type": "code",
   "execution_count": 57,
   "id": "0fb2927c",
   "metadata": {},
   "outputs": [
    {
     "data": {
      "text/plain": [
       "<AxesSubplot:xlabel='Tm', ylabel='Count'>"
      ]
     },
     "execution_count": 57,
     "metadata": {},
     "output_type": "execute_result"
    },
    {
     "data": {
      "image/png": "[encoded data removed]",
      "text/plain": [
       "<Figure size 432x288 with 1 Axes>"
      ]
     },
     "metadata": {
      "needs_background": "light"
     },
     "output_type": "display_data"
    }
   ],
   "source": [
    "sns.histplot(df[\"Tm\"])"
   ]
  },
  {
   "cell_type": "markdown",
   "id": "0bda1e88",
   "metadata": {},
   "source": [
    "Looking at this histogram we can see a long tail. It is not benefical for our model to correctly predict these points since vegas is almost never going to set a team total about 33 points. The logic is that if vegas says a team will score 33 points and our model predicts 35 then we would bet the over and win the bet even if they end up scoring 50 points."
   ]
  },
  {
   "cell_type": "code",
   "execution_count": 58,
   "id": "422734ba",
   "metadata": {},
   "outputs": [
    {
     "data": {
      "text/plain": [
       "[Text(0.5, 1.0, 'Points vs Offensive efficiency')]"
      ]
     },
     "execution_count": 58,
     "metadata": {},
     "output_type": "execute_result"
    },
    {
     "data": {
      "image/png": "[encoded data removed]",
      "text/plain": [
       "<Figure size 432x288 with 1 Axes>"
      ]
     },
     "metadata": {
      "needs_background": "light"
     },
     "output_type": "display_data"
    }
   ],
   "source": [
    "sns.scatterplot(df[\"Tm\"],df[\"Offense\"]).set(title = \"Points vs Offensive efficiency\")"
   ]
  },
  {
   "cell_type": "code",
   "execution_count": 59,
   "id": "eba630d9",
   "metadata": {},
   "outputs": [
    {
     "data": {
      "text/plain": [
       "[Text(0.5, 1.0, 'Points vs Deffensive efficiency')]"
      ]
     },
     "execution_count": 59,
     "metadata": {},
     "output_type": "execute_result"
    },
    {
     "data": {
      "image/png": "[encoded data removed]",
      "text/plain": [
       "<Figure size 432x288 with 1 Axes>"
      ]
     },
     "metadata": {
      "needs_background": "light"
     },
     "output_type": "display_data"
    }
   ],
   "source": [
    "sns.scatterplot(df[\"Tm\"],df[\"Defense\"]).set(title = \"Points vs Deffensive efficiency\")"
   ]
  },
  {
   "cell_type": "markdown",
   "id": "c196e5b9",
   "metadata": {},
   "source": [
    "Defense really doesn't have that large of an impact on the points a team scores. "
   ]
  },
  {
   "cell_type": "code",
   "execution_count": 226,
   "id": "e309471d",
   "metadata": {},
   "outputs": [
    {
     "name": "stdout",
     "output_type": "stream",
     "text": [
      "Games where a team scores more than 38 points: 164\n"
     ]
    }
   ],
   "source": [
    "print(\"Games where a team scores more than 38 points:\", str(sum(y>38)))"
   ]
  },
  {
   "cell_type": "code",
   "execution_count": 66,
   "id": "1d119c6f",
   "metadata": {},
   "outputs": [
    {
     "data": {
      "text/plain": [
       "0    12.0\n",
       "1    31.0\n",
       "2    37.0\n",
       "3    36.0\n",
       "4    17.0\n",
       "Name: Tm, dtype: float64"
      ]
     },
     "execution_count": 66,
     "metadata": {},
     "output_type": "execute_result"
    }
   ],
   "source": [
    "#modified target variable to reduce the influenece of out lier events\n",
    "y = df.Tm\n",
    "y_mod=y.copy()\n",
    "for score in enumerate (y_mod):\n",
    "    if score[1]>38:\n",
    "        y_mod[score[0]]= 38\n",
    "    if score[1]<7:\n",
    "        y_mod[score[0]]=7\n",
    "y_mod.head()"
   ]
  },
  {
   "cell_type": "markdown",
   "id": "0d44d6e5",
   "metadata": {},
   "source": [
    "I created this second modified target dataset for two reasons. One we see a long tail in the distribution and don't want the outliers to have such an impact. Also if we are to use this for betting purposes no team will have a total above 38 points or below 7. If we project a team to score 7 points that is okay if they end up scoring less than 7 points. Also on the high end we would expect there to be some fluky plays like return touchdowns that we cannot effectivley model with our data."
   ]
  },
  {
   "cell_type": "markdown",
   "id": "b532e29a",
   "metadata": {},
   "source": [
    "## Dataset prep\n",
    "- Create training test splits\n",
    "- Normalize the data"
   ]
  },
  {
   "cell_type": "code",
   "execution_count": 193,
   "id": "eba79b35",
   "metadata": {},
   "outputs": [],
   "source": [
    "from sklearn import preprocessing\n",
    "RANDOM_STATE = 0    #Makes models recreatable\n",
    "\n",
    "y = df.Tm\n",
    "X = df.drop(['Tm', 'OppScore','Opp', 'Team'], axis=1)\n",
    "#X=(X-X.mean())/X.std()      # Normalization of the data set\n",
    "\n",
    "X_train, X_test, y_train, y_test = train_test_split(X, y, test_size=0.10, random_state=RANDOM_STATE)\n",
    "X_train, X_val, y_train, y_val = train_test_split(X_train, y_train, test_size=0.20, random_state=RANDOM_STATE)\n",
    "\n",
    "X_train, X_test, y_train_mod, y_test_mod = train_test_split(X, y_mod, test_size=0.10, random_state=RANDOM_STATE)\n",
    "X_train, X_val, y_train_mod, y_val_mod = train_test_split(X_train, y_train_mod, test_size=0.20, random_state=RANDOM_STATE)\n",
    "\n",
    "#standardization of dataset\n",
    "ss = StandardScaler()\n",
    "ss.fit(X_train)\n",
    "X_train = ss.transform(X_train)\n",
    "X_val = ss.transform(X_val)\n",
    "X_test = ss.transform(X_test)"
   ]
  },
  {
   "cell_type": "code",
   "execution_count": 32,
   "id": "e58b2233",
   "metadata": {},
   "outputs": [],
   "source": [
    "#Helper Function\n",
    "def scoreValues(trainPreds, valPreds, y_train, y_val):   \n",
    "    trainR2   = round (metrics.r2_score(trainPreds,y_train),3)\n",
    "    valR2     = round (metrics.r2_score(valPreds, y_val),3)\n",
    "\n",
    "    rmseTrain = round (metrics.mean_squared_error(trainPreds,y_train)**0.5,3)\n",
    "    rmseVal   = round (metrics.mean_squared_error(valPreds,y_val)**0.5, 3)\n",
    "    \n",
    "    print(\"Training Data R2 Value     : \", trainR2)\n",
    "    print(\"Validation Data R2 Value   : \", valR2)\n",
    "    print(\"\")\n",
    "    print(\"Training Data RMSE Value   : \", rmseTrain)\n",
    "    print(\"Validation Data RMSE Value : \", rmseVal)"
   ]
  },
  {
   "cell_type": "code",
   "execution_count": 33,
   "id": "7a73aa60",
   "metadata": {},
   "outputs": [],
   "source": [
    "reg_results=pd.DataFrame(columns=['R2','RMSE'])\n",
    "\n",
    "def resultsAdd(tabel, testPreds, y_test, model):   \n",
    "    testR2     = round (metrics.r2_score(testPreds,y_test),3)\n",
    "    rmseTest   = round (metrics.mean_squared_error(testPreds,y_test)**0.5, 3)\n",
    "    tabel.at[model,\"R2\"] = testR2\n",
    "    tabel.at[model,\"RMSE\"]= rmseTest"
   ]
  },
  {
   "cell_type": "markdown",
   "id": "343123df",
   "metadata": {},
   "source": [
    "## Linear Regression"
   ]
  },
  {
   "cell_type": "code",
   "execution_count": 156,
   "id": "d5c8c77b",
   "metadata": {},
   "outputs": [
    {
     "name": "stdout",
     "output_type": "stream",
     "text": [
      "Training Data R2 Value     :  0.732\n",
      "Validation Data R2 Value   :  0.733\n",
      "\n",
      "Training Data RMSE Value   :  4.594\n",
      "Validation Data RMSE Value :  4.596\n"
     ]
    }
   ],
   "source": [
    "from sklearn.linear_model import LinearRegression\n",
    "\n",
    "linear = LinearRegression()\n",
    "linear.fit(X_train,y_train)\n",
    "lin_train = linear.predict(X_train)\n",
    "lin_val   = linear.predict(X_val)\n",
    "lin_test   = linear.predict(X_test)\n",
    "\n",
    "scoreValues(lin_train, lin_val, y_train, y_val)"
   ]
  },
  {
   "cell_type": "code",
   "execution_count": 69,
   "id": "35d14def",
   "metadata": {},
   "outputs": [],
   "source": [
    "resultsAdd(reg_results, lin_test, y_test_mod, \"Linear Regression\")"
   ]
  },
  {
   "cell_type": "code",
   "execution_count": 166,
   "id": "93035e0e",
   "metadata": {},
   "outputs": [
    {
     "name": "stdout",
     "output_type": "stream",
     "text": [
      "Training Data R2 Value     :  0.708\n",
      "Validation Data R2 Value   :  0.712\n",
      "\n",
      "Training Data RMSE Value   :  4.277\n",
      "Validation Data RMSE Value :  4.265\n"
     ]
    }
   ],
   "source": [
    "# Modified target result\n",
    "linear = LinearRegression()\n",
    "linear.fit(X_train,y_train_mod)\n",
    "lin_train = linear.predict(X_train)\n",
    "lin_val   = linear.predict(X_val)\n",
    "lin_test   = linear.predict(X_test)\n",
    "\n",
    "scoreValues(lin_train, lin_val, y_train_mod, y_val_mod)"
   ]
  },
  {
   "cell_type": "code",
   "execution_count": 167,
   "id": "66ce7010",
   "metadata": {},
   "outputs": [],
   "source": [
    "resultsAdd(reg_results, lin_test, y_test_mod, \"Linear Regression Modified\")"
   ]
  },
  {
   "cell_type": "code",
   "execution_count": null,
   "id": "f1b3b4cc",
   "metadata": {},
   "outputs": [],
   "source": [
    "X_train, X_test, y_train, y_test = train_test_split(X, y, test_size=0.10, random_state=RANDOM_STATE)\n",
    "X_train, X_val, y_train, y_val = train_test_split(X_train, y_train, test_size=0.20, random_state=RANDOM_STATE"
   ]
  },
  {
   "cell_type": "code",
   "execution_count": 199,
   "id": "0dd26437",
   "metadata": {},
   "outputs": [
    {
     "name": "stdout",
     "output_type": "stream",
     "text": [
      "                            OLS Regression Results                            \n",
      "==============================================================================\n",
      "Dep. Variable:                     Tm   R-squared:                       0.787\n",
      "Model:                            OLS   Adj. R-squared:                  0.786\n",
      "Method:                 Least Squares   F-statistic:                     751.4\n",
      "Date:                Mon, 23 Jan 2023   Prob (F-statistic):               0.00\n",
      "Time:                        20:04:59   Log-Likelihood:                -5426.2\n",
      "No. Observations:                1841   AIC:                         1.087e+04\n",
      "Df Residuals:                    1831   BIC:                         1.093e+04\n",
      "Df Model:                           9                                         \n",
      "Covariance Type:            nonrobust                                         \n",
      "==============================================================================\n",
      "                 coef    std err          t      P>|t|      [0.025      0.975]\n",
      "------------------------------------------------------------------------------\n",
      "const          3.9744      1.051      3.780      0.000       1.912       6.037\n",
      "Offense        0.6747      0.018     38.149      0.000       0.640       0.709\n",
      "Defense        0.2904      0.018     15.886      0.000       0.255       0.326\n",
      "Sp. Tms        0.4248      0.025     16.948      0.000       0.376       0.474\n",
      "TO             0.9710      0.118      8.219      0.000       0.739       1.203\n",
      "TotYd          0.0189      0.002      8.543      0.000       0.015       0.023\n",
      "Opp1stD        0.1294      0.039      3.336      0.001       0.053       0.206\n",
      "OppTotYd       0.0104      0.002      5.883      0.000       0.007       0.014\n",
      "OppPassY       0.0055      0.001      4.409      0.000       0.003       0.008\n",
      "OppRushY       0.0049      0.002      2.993      0.003       0.002       0.008\n",
      "OppTO          1.1794      0.118      9.970      0.000       0.947       1.411\n",
      "==============================================================================\n",
      "Omnibus:                        5.225   Durbin-Watson:                   2.033\n",
      "Prob(Omnibus):                  0.073   Jarque-Bera (JB):                5.456\n",
      "Skew:                           0.085   Prob(JB):                       0.0654\n",
      "Kurtosis:                       3.205   Cond. No.                     6.62e+15\n",
      "==============================================================================\n",
      "\n",
      "Notes:\n",
      "[1] Standard Errors assume that the covariance matrix of the errors is correctly specified.\n",
      "[2] The smallest eigenvalue is 1.35e-23. This might indicate that there are\n",
      "strong multicollinearity problems or that the design matrix is singular.\n"
     ]
    }
   ],
   "source": [
    "#I stole this from a blog so I could easily see the p-values. This caused me to drop 1st downs as a variable\n",
    "from sklearn import datasets, linear_model\n",
    "import statsmodels.api as sm\n",
    "from scipy import stats\n",
    "\n",
    "X2 = sm.add_constant(X_train)\n",
    "est = sm.OLS(y_train, X2)\n",
    "est2 = est.fit()\n",
    "print(est2.summary())"
   ]
  },
  {
   "cell_type": "markdown",
   "id": "bca36558",
   "metadata": {},
   "source": [
    "## Random Forest Regression"
   ]
  },
  {
   "cell_type": "code",
   "execution_count": 74,
   "id": "25a22054",
   "metadata": {},
   "outputs": [
    {
     "name": "stdout",
     "output_type": "stream",
     "text": [
      "Training Data R2 Value     :  0.958\n",
      "Validation Data R2 Value   :  0.685\n",
      "\n",
      "Training Data RMSE Value   :  1.883\n",
      "Validation Data RMSE Value :  4.974\n"
     ]
    }
   ],
   "source": [
    "from sklearn.ensemble import RandomForestRegressor\n",
    "\n",
    "rf = RandomForestRegressor(n_estimators=100, random_state=RANDOM_STATE)\n",
    "rf.fit(X_train,y_train)\n",
    "rf_train_preds = rf.predict(X_train)\n",
    "rf_val_preds = rf.predict(X_val)\n",
    "scoreValues(rf_train_preds,rf_val_preds,y_train,y_val)"
   ]
  },
  {
   "cell_type": "code",
   "execution_count": 75,
   "id": "e7814b08",
   "metadata": {},
   "outputs": [
    {
     "data": {
      "text/plain": [
       "{'max_depth': 9, 'min_samples_split': 10}"
      ]
     },
     "execution_count": 75,
     "metadata": {},
     "output_type": "execute_result"
    }
   ],
   "source": [
    "params = dict(max_depth= [6,7,8,9], min_samples_split = [10, 20, 30, 40, 60])\n",
    "rf = GridSearchCV(estimator= rf, param_grid=params, n_jobs=-1)\n",
    "rf.fit(X_train, y_train)\n",
    "rf.best_params_"
   ]
  },
  {
   "cell_type": "markdown",
   "id": "bb57f3d3",
   "metadata": {},
   "source": [
    "Note that this doesn't work for random forrest since it will always overfit the model"
   ]
  },
  {
   "cell_type": "code",
   "execution_count": 47,
   "id": "182af151",
   "metadata": {},
   "outputs": [
    {
     "name": "stdout",
     "output_type": "stream",
     "text": [
      "Training Data R2 Value     :  0.714\n",
      "Validation Data R2 Value   :  0.566\n",
      "\n",
      "Training Data RMSE Value   :  4.614\n",
      "Validation Data RMSE Value :  5.339\n"
     ]
    }
   ],
   "source": [
    "rf = RandomForestRegressor(n_estimators=100, random_state=RANDOM_STATE,max_depth = 7, min_samples_split= 60)\n",
    "rf.fit(X_train,y_train)\n",
    "\n",
    "rf_train_preds = rf.predict(X_train)\n",
    "rf_val_preds = rf.predict(X_val)\n",
    "rf_test_preds = rf.predict(X_test)\n",
    "\n",
    "scoreValues(rf_train_preds,rf_val_preds,y_train,y_val)"
   ]
  },
  {
   "cell_type": "code",
   "execution_count": 48,
   "id": "50a23b56",
   "metadata": {},
   "outputs": [],
   "source": [
    "resultsAdd(reg_results, rf_test_preds, y_test_mod, \"Random Forest\")"
   ]
  },
  {
   "cell_type": "markdown",
   "id": "8b744ace",
   "metadata": {},
   "source": [
    "## Random forrest with modified results set"
   ]
  },
  {
   "cell_type": "code",
   "execution_count": 49,
   "id": "55e439ed",
   "metadata": {},
   "outputs": [
    {
     "name": "stdout",
     "output_type": "stream",
     "text": [
      "Training Data R2 Value     :  0.958\n",
      "Validation Data R2 Value   :  0.626\n",
      "\n",
      "Training Data RMSE Value   :  1.72\n",
      "Validation Data RMSE Value :  4.643\n"
     ]
    }
   ],
   "source": [
    "rf = RandomForestRegressor(n_estimators=100, random_state=RANDOM_STATE)\n",
    "rf.fit(X_train,y_train_mod)\n",
    "rf_train_preds = rf.predict(X_train)\n",
    "rf_val_preds = rf.predict(X_val)\n",
    "scoreValues(rf_train_preds,rf_val_preds,y_train_mod,y_val_mod)"
   ]
  },
  {
   "cell_type": "code",
   "execution_count": 192,
   "id": "e4f592ad",
   "metadata": {},
   "outputs": [
    {
     "data": {
      "text/plain": [
       "{'max_depth': 9, 'min_samples_split': 10}"
      ]
     },
     "execution_count": 192,
     "metadata": {},
     "output_type": "execute_result"
    }
   ],
   "source": [
    "params = dict(max_depth= [6,7,8,9], min_samples_split = [10, 20, 30, 40, 60])\n",
    "rf = GridSearchCV(estimator= rf, param_grid=params, n_jobs=-1)\n",
    "rf.fit(X_train, y_train_mod)\n",
    "rf.best_params_"
   ]
  },
  {
   "cell_type": "code",
   "execution_count": 50,
   "id": "bff1835f",
   "metadata": {},
   "outputs": [
    {
     "name": "stdout",
     "output_type": "stream",
     "text": [
      "Training Data R2 Value     :  0.756\n",
      "Validation Data R2 Value   :  0.602\n",
      "\n",
      "Training Data RMSE Value   :  3.844\n",
      "Validation Data RMSE Value :  4.682\n"
     ]
    }
   ],
   "source": [
    "rf = RandomForestRegressor(n_estimators=100, random_state=RANDOM_STATE,max_depth = 7, min_samples_split= 30)\n",
    "rf.fit(X_train,y_train_mod)\n",
    "\n",
    "rf_train_preds = rf.predict(X_train)\n",
    "rf_val_preds = rf.predict(X_val)\n",
    "rf_test_preds = rf.predict(X_test)\n",
    "\n",
    "scoreValues(rf_train_preds,rf_val_preds,y_train_mod,y_val_mod)"
   ]
  },
  {
   "cell_type": "code",
   "execution_count": 51,
   "id": "11418714",
   "metadata": {},
   "outputs": [],
   "source": [
    "resultsAdd(reg_results, rf_test_preds, y_test_mod, \"Random Forest Modified\")"
   ]
  },
  {
   "cell_type": "markdown",
   "id": "d169fc33",
   "metadata": {},
   "source": [
    "For random forrest we see some overfitting noted by the difference between testing and training R2 values and RMSE. This is why I did not chose the parameters shown by grid search. Instead I tried  to find a model with less overfitting"
   ]
  },
  {
   "cell_type": "markdown",
   "id": "d6bc0afc",
   "metadata": {},
   "source": [
    "## SVM"
   ]
  },
  {
   "cell_type": "code",
   "execution_count": 52,
   "id": "3947c3d7",
   "metadata": {},
   "outputs": [
    {
     "name": "stdout",
     "output_type": "stream",
     "text": [
      "Training Data R2 Value     :  0.604\n",
      "Validation Data R2 Value   :  0.522\n",
      "\n",
      "Training Data RMSE Value   :  5.057\n",
      "Validation Data RMSE Value :  5.395\n"
     ]
    }
   ],
   "source": [
    "from sklearn.svm import SVR\n",
    "\n",
    "svr_rbf = SVR(kernel='rbf')\n",
    "svr_rbf.fit(X_train,y_train)\n",
    "svr_rbf_train_preds = svr_rbf.predict(X_train)\n",
    "svr_rbf_val_preds = svr_rbf.predict(X_val)\n",
    "\n",
    "scoreValues(svr_rbf_train_preds,svr_rbf_val_preds,y_train,y_val)"
   ]
  },
  {
   "cell_type": "code",
   "execution_count": 53,
   "id": "51d0e215",
   "metadata": {},
   "outputs": [
    {
     "data": {
      "text/plain": [
       "{'C': 5000, 'gamma': 0.001, 'kernel': 'rbf'}"
      ]
     },
     "execution_count": 53,
     "metadata": {},
     "output_type": "execute_result"
    }
   ],
   "source": [
    "svr_rbf = SVR()\n",
    "params = dict(C= [100, 1000 ,2000 ,5000 ,1000],gamma = [0.0001, 0.001, 0.01], \n",
    "              kernel = ['linear', 'poly', 'rbf', 'sigmoid'])\n",
    "rbf = GridSearchCV(estimator=svr_rbf, param_grid=params, n_jobs=-1)\n",
    "rbf.fit(X_train, y_train)\n",
    "rbf.best_params_"
   ]
  },
  {
   "cell_type": "code",
   "execution_count": 54,
   "id": "209ea0be",
   "metadata": {},
   "outputs": [
    {
     "name": "stdout",
     "output_type": "stream",
     "text": [
      "Training Data R2 Value     :  0.75\n",
      "Validation Data R2 Value   :  0.69\n",
      "\n",
      "Training Data RMSE Value   :  4.587\n",
      "Validation Data RMSE Value :  4.818\n"
     ]
    }
   ],
   "source": [
    "svr_rbf = SVR(kernel='rbf', C= 5000, gamma= 0.001)\n",
    "svr_rbf.fit(X_train,y_train)\n",
    "svr_rbf_train_preds = svr_rbf.predict(X_train)\n",
    "svr_rbf_val_preds = svr_rbf.predict(X_val)\n",
    "svr_rbf_test_preds = svr_rbf.predict(X_test)\n",
    "\n",
    "scoreValues(svr_rbf_train_preds,svr_rbf_val_preds,y_train,y_val)"
   ]
  },
  {
   "cell_type": "code",
   "execution_count": 55,
   "id": "98423ade",
   "metadata": {},
   "outputs": [],
   "source": [
    "resultsAdd(reg_results, svr_rbf_test_preds, y_test_mod, \"SVM\")"
   ]
  },
  {
   "cell_type": "markdown",
   "id": "c689a106",
   "metadata": {},
   "source": [
    "## SVM Modified Results Set"
   ]
  },
  {
   "cell_type": "code",
   "execution_count": 56,
   "id": "e5b70f14",
   "metadata": {},
   "outputs": [
    {
     "name": "stdout",
     "output_type": "stream",
     "text": [
      "Training Data R2 Value     :  0.682\n",
      "Validation Data R2 Value   :  0.618\n",
      "\n",
      "Training Data RMSE Value   :  4.36\n",
      "Validation Data RMSE Value :  4.644\n"
     ]
    }
   ],
   "source": [
    "svr_rbf = SVR(kernel='rbf')\n",
    "svr_rbf.fit(X_train,y_train_mod)\n",
    "svr_rbf_train_preds = svr_rbf.predict(X_train)\n",
    "svr_rbf_val_preds = svr_rbf.predict(X_val)\n",
    "\n",
    "scoreValues(svr_rbf_train_preds,svr_rbf_val_preds,y_train_mod,y_val_mod)"
   ]
  },
  {
   "cell_type": "code",
   "execution_count": 57,
   "id": "ed47d719",
   "metadata": {},
   "outputs": [
    {
     "data": {
      "text/plain": [
       "{'C': 100, 'gamma': 0.01, 'kernel': 'rbf'}"
      ]
     },
     "execution_count": 57,
     "metadata": {},
     "output_type": "execute_result"
    }
   ],
   "source": [
    "svr_rbf = SVR()\n",
    "params = dict(C= [100, 1000 ,2000 ,5000 ,1000],gamma = [0.0001, 0.001, 0.01], \n",
    "              kernel = ['linear', 'poly', 'rbf', 'sigmoid'])\n",
    "rbf = GridSearchCV(estimator=svr_rbf, param_grid=params, n_jobs=-1)\n",
    "rbf.fit(X_train, y_train_mod)\n",
    "rbf.best_params_"
   ]
  },
  {
   "cell_type": "code",
   "execution_count": 58,
   "id": "d1b2467e",
   "metadata": {},
   "outputs": [
    {
     "name": "stdout",
     "output_type": "stream",
     "text": [
      "Training Data R2 Value     :  0.75\n",
      "Validation Data R2 Value   :  0.7\n",
      "\n",
      "Training Data RMSE Value   :  4.178\n",
      "Validation Data RMSE Value :  4.413\n"
     ]
    }
   ],
   "source": [
    "svr_rbf = SVR(kernel='rbf', C= 100, gamma= 0.01)\n",
    "svr_rbf.fit(X_train,y_train_mod)\n",
    "svr_rbf_train_preds = svr_rbf.predict(X_train)\n",
    "svr_rbf_val_preds = svr_rbf.predict(X_val)\n",
    "svr_rbf_test_preds = svr_rbf.predict(X_test)\n",
    "\n",
    "scoreValues(svr_rbf_train_preds,svr_rbf_val_preds,y_train_mod,y_val_mod)"
   ]
  },
  {
   "cell_type": "code",
   "execution_count": 59,
   "id": "8c3adacb",
   "metadata": {},
   "outputs": [],
   "source": [
    "resultsAdd(reg_results, svr_rbf_test_preds, y_test_mod, \"SVM Modified Results\")"
   ]
  },
  {
   "cell_type": "markdown",
   "id": "475d0393",
   "metadata": {},
   "source": [
    "SVM with an rbf kernel on the modied data set has provided by far the best results out of any model with the validation RMSE of only 4.41. This is 5% improvement over the unmodified set with out sacraficing any of the upside of our model."
   ]
  },
  {
   "cell_type": "markdown",
   "id": "9f7d697e",
   "metadata": {},
   "source": [
    "## KNN Regressor"
   ]
  },
  {
   "cell_type": "code",
   "execution_count": 60,
   "id": "a7b00b25",
   "metadata": {},
   "outputs": [
    {
     "name": "stdout",
     "output_type": "stream",
     "text": [
      "Training Data R2 Value     :  0.681\n",
      "Validation Data R2 Value   :  0.442\n",
      "\n",
      "Training Data RMSE Value   :  4.768\n",
      "Validation Data RMSE Value :  5.948\n"
     ]
    }
   ],
   "source": [
    "from sklearn.neighbors import KNeighborsRegressor\n",
    "\n",
    "neigh = KNeighborsRegressor(n_neighbors=5)\n",
    "neigh.fit(X_train,y_train)\n",
    "neigh_train_preds = neigh.predict(X_train)\n",
    "neigh_val_preds = neigh.predict(X_val)\n",
    "\n",
    "scoreValues(neigh_train_preds,neigh_val_preds,y_train,y_val)"
   ]
  },
  {
   "cell_type": "code",
   "execution_count": 61,
   "id": "37bf507e",
   "metadata": {},
   "outputs": [
    {
     "data": {
      "text/plain": [
       "{'algorithm': 'auto', 'n_neighbors': 15, 'weights': 'distance'}"
      ]
     },
     "execution_count": 61,
     "metadata": {},
     "output_type": "execute_result"
    }
   ],
   "source": [
    "neigh = KNeighborsRegressor()\n",
    "params = dict(n_neighbors = [10,11,12,13,14,15,16,17,18,19,20], algorithm = ['auto', 'ball_tree', 'kd_tree', 'brute'],\n",
    "             weights = ['uniform', 'distance'])\n",
    "neigh = GridSearchCV(estimator=neigh, param_grid=params, n_jobs=-1)\n",
    "neigh.fit(X_train, y_train)\n",
    "neigh.best_params_"
   ]
  },
  {
   "cell_type": "code",
   "execution_count": 62,
   "id": "7a77d3e8",
   "metadata": {},
   "outputs": [
    {
     "name": "stdout",
     "output_type": "stream",
     "text": [
      "Training Data R2 Value     :  1.0\n",
      "Validation Data R2 Value   :  0.399\n",
      "\n",
      "Training Data RMSE Value   :  0.0\n",
      "Validation Data RMSE Value :  5.726\n"
     ]
    }
   ],
   "source": [
    "neigh = KNeighborsRegressor(n_neighbors=15,algorithm = 'auto', weights= 'distance')\n",
    "neigh.fit(X_train,y_train)\n",
    "neigh_train_preds = neigh.predict(X_train)\n",
    "neigh_val_preds = neigh.predict(X_val)\n",
    "neigh_test_preds =neigh.predict(X_test)\n",
    "\n",
    "scoreValues(neigh_train_preds,neigh_val_preds,y_train,y_val)"
   ]
  },
  {
   "cell_type": "code",
   "execution_count": 63,
   "id": "cf462b1b",
   "metadata": {},
   "outputs": [],
   "source": [
    "resultsAdd(reg_results, neigh_test_preds, y_test_mod, \"KNN\")"
   ]
  },
  {
   "cell_type": "markdown",
   "id": "dac2f974",
   "metadata": {},
   "source": [
    "KNN Regressor with modified results set"
   ]
  },
  {
   "cell_type": "code",
   "execution_count": 64,
   "id": "261a0130",
   "metadata": {},
   "outputs": [
    {
     "name": "stdout",
     "output_type": "stream",
     "text": [
      "Training Data R2 Value     :  0.681\n",
      "Validation Data R2 Value   :  0.467\n",
      "\n",
      "Training Data RMSE Value   :  4.307\n",
      "Validation Data RMSE Value :  5.3\n"
     ]
    }
   ],
   "source": [
    "neigh = KNeighborsRegressor(n_neighbors=5)\n",
    "neigh.fit(X_train,y_train_mod)\n",
    "neigh_train_preds = neigh.predict(X_train)\n",
    "neigh_val_preds = neigh.predict(X_val)\n",
    "\n",
    "scoreValues(neigh_train_preds,neigh_val_preds,y_train_mod,y_val_mod)"
   ]
  },
  {
   "cell_type": "code",
   "execution_count": 65,
   "id": "9c57836f",
   "metadata": {},
   "outputs": [
    {
     "data": {
      "text/plain": [
       "{'algorithm': 'auto', 'n_neighbors': 15, 'weights': 'distance'}"
      ]
     },
     "execution_count": 65,
     "metadata": {},
     "output_type": "execute_result"
    }
   ],
   "source": [
    "neigh = KNeighborsRegressor()\n",
    "params = dict(n_neighbors = [10,11,12,13,14,15,16,17,18,19,20], algorithm = ['auto', 'ball_tree', 'kd_tree', 'brute'],\n",
    "             weights = ['uniform', 'distance'])\n",
    "neigh = GridSearchCV(estimator=neigh, param_grid=params, n_jobs=-1)\n",
    "neigh.fit(X_train, y_train_mod)\n",
    "neigh.best_params_"
   ]
  },
  {
   "cell_type": "code",
   "execution_count": 66,
   "id": "150efed1",
   "metadata": {},
   "outputs": [
    {
     "name": "stdout",
     "output_type": "stream",
     "text": [
      "Training Data R2 Value     :  1.0\n",
      "Validation Data R2 Value   :  0.444\n",
      "\n",
      "Training Data RMSE Value   :  0.0\n",
      "Validation Data RMSE Value :  5.054\n"
     ]
    }
   ],
   "source": [
    "neigh = KNeighborsRegressor(n_neighbors=15,algorithm = 'auto', weights= 'distance')\n",
    "neigh.fit(X_train,y_train_mod)\n",
    "neigh_train_preds = neigh.predict(X_train)\n",
    "neigh_val_preds = neigh.predict(X_val)\n",
    "neigh_test_preds =neigh.predict(X_test)\n",
    "\n",
    "scoreValues(neigh_train_preds,neigh_val_preds,y_train_mod,y_val_mod)"
   ]
  },
  {
   "cell_type": "code",
   "execution_count": 67,
   "id": "6f3b49bb",
   "metadata": {},
   "outputs": [],
   "source": [
    "resultsAdd(reg_results, neigh_test_preds, y_test_mod, \"KNN Modified Results\")"
   ]
  },
  {
   "cell_type": "markdown",
   "id": "8d44729e",
   "metadata": {},
   "source": [
    "When changing the weight to \"distance\" we see the training data R2 go to 0 which makes sense as it's just matching to its self. The RMSE on the validation set isn't great for either of the results sets."
   ]
  },
  {
   "cell_type": "markdown",
   "id": "acb914aa",
   "metadata": {},
   "source": [
    "## Ensemble Method"
   ]
  },
  {
   "cell_type": "code",
   "execution_count": 68,
   "id": "c67f928d",
   "metadata": {},
   "outputs": [
    {
     "name": "stdout",
     "output_type": "stream",
     "text": [
      "Training Data R2 Value     :  0.758\n",
      "Validation Data R2 Value   :  0.688\n",
      "\n",
      "Training Data RMSE Value   :  4.017\n",
      "Validation Data RMSE Value :  4.375\n"
     ]
    }
   ],
   "source": [
    "from sklearn.ensemble import VotingRegressor\n",
    "estimators=[(\"svr\", svr_rbf), (\"rf\", rf)]\n",
    "ensemble = VotingRegressor(estimators, weights= [3,1])\n",
    "ensemble.fit(X_train, y_train_mod)\n",
    "pred_train = ensemble.predict(X_train)\n",
    "pred_val = ensemble.predict(X_val)\n",
    "pred_test = ensemble.predict(X_test)\n",
    "\n",
    "scoreValues(pred_train,pred_val,y_train_mod,y_val_mod)"
   ]
  },
  {
   "cell_type": "code",
   "execution_count": 69,
   "id": "a31ecfa6",
   "metadata": {},
   "outputs": [],
   "source": [
    "resultsAdd(reg_results, pred_test, y_test_mod, \"Emsemble\")"
   ]
  },
  {
   "cell_type": "markdown",
   "id": "2634028f",
   "metadata": {},
   "source": [
    "## Final Results"
   ]
  },
  {
   "cell_type": "code",
   "execution_count": 70,
   "id": "291cdd1f",
   "metadata": {},
   "outputs": [
    {
     "data": {
      "text/html": [
       "<div>\n",
       "<style scoped>\n",
       "    .dataframe tbody tr th:only-of-type {\n",
       "        vertical-align: middle;\n",
       "    }\n",
       "\n",
       "    .dataframe tbody tr th {\n",
       "        vertical-align: top;\n",
       "    }\n",
       "\n",
       "    .dataframe thead th {\n",
       "        text-align: right;\n",
       "    }\n",
       "</style>\n",
       "<table border=\"1\" class=\"dataframe\">\n",
       "  <thead>\n",
       "    <tr style=\"text-align: right;\">\n",
       "      <th></th>\n",
       "      <th>R2</th>\n",
       "      <th>RMSE</th>\n",
       "    </tr>\n",
       "  </thead>\n",
       "  <tbody>\n",
       "    <tr>\n",
       "      <th>Linear Regression</th>\n",
       "      <td>0.732</td>\n",
       "      <td>4.695</td>\n",
       "    </tr>\n",
       "    <tr>\n",
       "      <th>Linear Regression Modified</th>\n",
       "      <td>0.67</td>\n",
       "      <td>4.588</td>\n",
       "    </tr>\n",
       "    <tr>\n",
       "      <th>Random Forest</th>\n",
       "      <td>0.636</td>\n",
       "      <td>5.053</td>\n",
       "    </tr>\n",
       "    <tr>\n",
       "      <th>Random Forest Modified</th>\n",
       "      <td>0.591</td>\n",
       "      <td>4.885</td>\n",
       "    </tr>\n",
       "    <tr>\n",
       "      <th>SVM</th>\n",
       "      <td>0.746</td>\n",
       "      <td>4.627</td>\n",
       "    </tr>\n",
       "    <tr>\n",
       "      <th>SVM Modified Results</th>\n",
       "      <td>0.727</td>\n",
       "      <td>4.406</td>\n",
       "    </tr>\n",
       "    <tr>\n",
       "      <th>KNN</th>\n",
       "      <td>0.506</td>\n",
       "      <td>5.241</td>\n",
       "    </tr>\n",
       "    <tr>\n",
       "      <th>KNN Modified Results</th>\n",
       "      <td>0.411</td>\n",
       "      <td>5.281</td>\n",
       "    </tr>\n",
       "    <tr>\n",
       "      <th>Emsemble</th>\n",
       "      <td>0.708</td>\n",
       "      <td>4.425</td>\n",
       "    </tr>\n",
       "  </tbody>\n",
       "</table>\n",
       "</div>"
      ],
      "text/plain": [
       "                               R2   RMSE\n",
       "Linear Regression           0.732  4.695\n",
       "Linear Regression Modified   0.67  4.588\n",
       "Random Forest               0.636  5.053\n",
       "Random Forest Modified      0.591  4.885\n",
       "SVM                         0.746  4.627\n",
       "SVM Modified Results        0.727  4.406\n",
       "KNN                         0.506  5.241\n",
       "KNN Modified Results        0.411  5.281\n",
       "Emsemble                    0.708  4.425"
      ]
     },
     "execution_count": 70,
     "metadata": {},
     "output_type": "execute_result"
    }
   ],
   "source": [
    "reg_results"
   ]
  },
  {
   "cell_type": "code",
   "execution_count": 74,
   "id": "802ae6ff",
   "metadata": {},
   "outputs": [
    {
     "data": {
      "image/png": "[encoded data removed]",
      "text/plain": [
       "<Figure size 432x288 with 1 Axes>"
      ]
     },
     "metadata": {
      "needs_background": "light"
     },
     "output_type": "display_data"
    }
   ],
   "source": [
    "ax = sns.scatterplot(y_test_mod, svr_rbf_test_preds, color=\"darkblue\")\n",
    "ax.set(ylabel=\"Predicted Score\", xlabel = \"Actual Score\",title = \"SVM Modified Results vs Predicted\")\n",
    "plt.show()"
   ]
  },
  {
   "cell_type": "code",
   "execution_count": 75,
   "id": "5ed388c9",
   "metadata": {},
   "outputs": [
    {
     "data": {
      "image/png": "[encoded data removed]",
      "text/plain": [
       "<Figure size 432x288 with 1 Axes>"
      ]
     },
     "metadata": {
      "needs_background": "light"
     },
     "output_type": "display_data"
    }
   ],
   "source": [
    "ax = sns.scatterplot(y_test_mod, svr_rbf_test_preds - y_test_mod, color = \"darkblue\")\n",
    "ax.set(ylabel=\"Residual\", xlabel = \"Actual Score\",title = \"SVM Modified Results vs Residual\")\n",
    "plt.show()"
   ]
  },
  {
   "cell_type": "markdown",
   "id": "9f1a09b7",
   "metadata": {},
   "source": [
    "As we can see in the plot of the residuals we are still running into the issue that we are underpredicting high scores and overpredicting low scores. In most cases this would be more of an issue but for this data it is somewhat expected. In order for a team to score less than 10 points normally means that they had some untimely turnovers or bad luck. The opposite is true for when a team scores over 35 points. The middle of the data looks evenly distriubted. We just need out model to be on the correct side of the vegas total so it is okay if we are a little off on projecting the extreams as long as our model does a good job of projecting an average game.\n",
    "\n",
    "The best model for this data is either the ensembel model or the SVM model on the modified results. It is interesting to see that the SVM model actaully predicted much better on the test data than it did with the validation data. Going for I would probably choose the ensembel method since it did a good job with both the validation data and the test data. Not to mention it includes the SVM model as a part of it."
   ]
  },
  {
   "cell_type": "markdown",
   "id": "e56f3f60",
   "metadata": {},
   "source": [
    "## Next Steps"
   ]
  },
  {
   "cell_type": "markdown",
   "id": "f1e6fae2",
   "metadata": {},
   "source": [
    "Now that we have a good model it can be used to predict scores against the spread. A real measure of success of this model will be when the results are compared to the vegas spread and not just the actual output. A future project could include the spread or total as the target variable. This could also be turned into a classification task where the results are either over or under. One area where this model could be improved is by using some of the more advanced analytics like expected points added or position grades. By using mostly just counting stats we are missing out on the effectiveness and efficiency asspect of games. It would also be interesting to use offensive line/ deffensive line grades. A team having a large advantage on the line normally has a possitvie impact on the game that isn't neccesarily captured in the box score."
   ]
  },
  {
   "cell_type": "code",
   "execution_count": 201,
   "id": "42f9bea0",
   "metadata": {},
   "outputs": [
    {
     "name": "stdout",
     "output_type": "stream",
     "text": [
      "                            OLS Regression Results                            \n",
      "==============================================================================\n",
      "Dep. Variable:                     Tm   R-squared:                       0.788\n",
      "Model:                            OLS   Adj. R-squared:                  0.788\n",
      "Method:                 Least Squares   F-statistic:                     1221.\n",
      "Date:                Mon, 23 Jan 2023   Prob (F-statistic):               0.00\n",
      "Time:                        20:15:09   Log-Likelihood:                -6789.7\n",
      "No. Observations:                2302   AIC:                         1.360e+04\n",
      "Df Residuals:                    2294   BIC:                         1.364e+04\n",
      "Df Model:                           7                                         \n",
      "Covariance Type:            nonrobust                                         \n",
      "==============================================================================\n",
      "                 coef    std err          t      P>|t|      [0.025      0.975]\n",
      "------------------------------------------------------------------------------\n",
      "const          5.0042      0.831      6.020      0.000       3.374       6.634\n",
      "Offense        0.6925      0.016     44.354      0.000       0.662       0.723\n",
      "Defense        0.2703      0.016     17.123      0.000       0.239       0.301\n",
      "Sp. Tms        0.4282      0.022     19.045      0.000       0.384       0.472\n",
      "TO             1.0639      0.106     10.055      0.000       0.856       1.271\n",
      "TotYd          0.0174      0.002      8.989      0.000       0.014       0.021\n",
      "OppTotYd       0.0208      0.002     10.602      0.000       0.017       0.025\n",
      "OppTO          1.2685      0.105     12.053      0.000       1.062       1.475\n",
      "==============================================================================\n",
      "Omnibus:                       13.269   Durbin-Watson:                   2.046\n",
      "Prob(Omnibus):                  0.001   Jarque-Bera (JB):               14.275\n",
      "Skew:                           0.142   Prob(JB):                     0.000795\n",
      "Kurtosis:                       3.260   Cond. No.                     4.32e+03\n",
      "==============================================================================\n",
      "\n",
      "Notes:\n",
      "[1] Standard Errors assume that the covariance matrix of the errors is correctly specified.\n",
      "[2] The condition number is large, 4.32e+03. This might indicate that there are\n",
      "strong multicollinearity or other numerical problems.\n"
     ]
    }
   ],
   "source": [
    "#Removed 1st downs as it had a high p-value showing that it was not predictive\n",
    "#Renived Passing yards and rushing yards as it doesn't improve the linear model but unnecessarily increases the \n",
    "#simultaitons complexity\n",
    "X = df.drop(['Tm', 'OppScore','Opp', 'Team'], axis=1)\n",
    "X = X.drop(['RushY'], axis=1)\n",
    "X = X.drop(['PassY'], axis=1)\n",
    "X = X.drop(['1stD'], axis=1)\n",
    "X = X.drop(['Opp1stD'], axis=1)\n",
    "X = X.drop(['OppPassY'], axis=1)\n",
    "X = X.drop(['OppRushY'], axis=1)\n",
    "X_train, X_test, y_train, y_test = train_test_split(X, y, test_size=0.10, random_state=RANDOM_STATE)\n",
    "X2 = sm.add_constant(X_train)\n",
    "est = sm.OLS(y_train, X2)\n",
    "est2 = est.fit()\n",
    "print(est2.summary())"
   ]
  },
  {
   "cell_type": "markdown",
   "id": "133b65ef",
   "metadata": {},
   "source": [
    "# Monte Carlo Simulation"
   ]
  },
  {
   "cell_type": "markdown",
   "id": "b2992b8e",
   "metadata": {},
   "source": [
    "For the monte carlo simulation we need to grab the average and standard deviation statistics for each team in 2022"
   ]
  },
  {
   "cell_type": "code",
   "execution_count": 114,
   "id": "03690448",
   "metadata": {},
   "outputs": [
    {
     "name": "stdout",
     "output_type": "stream",
     "text": [
      "\tMean stats for all teams in 2022\n",
      "\n",
      "        Offense   Defense         Tm   OppScore   Sp. Tms        TO       1stD  \\\n",
      "atl   4.053125 -8.096875  20.937500  23.062500  1.871875  1.250000  19.250000   \n",
      "buf  10.071333  0.557333  28.000000  17.533333  0.330667  1.600000  23.266667   \n",
      "car   0.209375 -3.510625  21.062500  22.937500  2.195625  1.187500  16.687500   \n",
      "chi  -0.086875 -9.536875  19.562500  27.125000  1.702500  1.437500  16.562500   \n",
      "cin   8.720667 -1.518667  26.066667  20.400000 -1.164000  1.133333  22.800000   \n",
      "\n",
      "          TotYd       PassY     RushY    Opp1stD    OppTotYd    OppPassY  \\\n",
      "atl  314.687500  155.687500  159.0000  21.187500  370.875000  237.875000   \n",
      "buf  402.266667  259.466667  142.8000  19.533333  317.666667  213.266667   \n",
      "car  312.687500  185.250000  127.4375  20.625000  353.062500  231.687500   \n",
      "chi  310.875000  129.875000  181.0000  20.812500  369.250000  210.937500   \n",
      "cin  367.400000  269.200000   98.2000  18.333333  332.333333  225.933333   \n",
      "\n",
      "     OppRushY     OppTO  \n",
      "atl  133.0000  1.000000  \n",
      "buf  104.4000  1.600000  \n",
      "car  121.3750  1.000000  \n",
      "chi  158.3125  1.312500  \n",
      "cin  106.4000  1.333333  \n",
      "\n",
      "\tStandard deviation stats for all teams in 2022\n",
      "\n",
      "        Offense    Defense        Tm   OppScore   Sp. Tms        TO      1stD  \\\n",
      "atl   6.910810   7.754005  7.252298   6.005206  3.041572  0.856349  2.955221   \n",
      "buf   7.663627  11.036199  6.969321   8.339807  5.376969  1.298351  4.558613   \n",
      "car  12.798044  10.819994  8.567137  10.497420  5.270505  1.223043  5.770254   \n",
      "chi   8.997615  12.228353  8.578801  10.423531  4.837014  0.813941  4.441753   \n",
      "cin  11.649432   8.850940  8.319226   6.162096  5.329315  1.407463  5.101820   \n",
      "\n",
      "          TotYd      PassY      RushY   Opp1stD   OppTotYd   OppPassY  \\\n",
      "atl   53.655343  44.558155  38.361439  3.506542  66.709195  94.924444   \n",
      "buf   80.295407  84.058540  38.554600  4.611580  86.960308  75.969417   \n",
      "car  102.855704  67.542086  85.531256  3.757215  68.432418  79.635602   \n",
      "chi   74.394332  54.059073  65.807801  4.563898  79.610301  76.493545   \n",
      "cin   88.734596  79.408708  51.230850  3.958114  62.430151  56.279236   \n",
      "\n",
      "      OppRushY     OppTO  \n",
      "atl  51.553209  1.032796  \n",
      "buf  55.397009  1.121224  \n",
      "car  57.827185  0.894427  \n",
      "chi  64.956107  1.302242  \n",
      "cin  47.840210  1.397276  \n"
     ]
    }
   ],
   "source": [
    "allmeans = pd.read_csv('NFL_means_2022.csv',sep=\"\\t\",index_col=0 )\n",
    "print(\"\\tMean stats for all teams in 2022\\n\\n\",allmeans.head())\n",
    "allStds = pd.read_csv('NFL_Stds_2022.csv',sep=\"\\t\",index_col=0 )\n",
    "print(\"\\n\\tStandard deviation stats for all teams in 2022\\n\\n\",allStds.head())"
   ]
  },
  {
   "cell_type": "markdown",
   "id": "2db5ab27",
   "metadata": {},
   "source": [
    "Now we need to pull out each statstic and save it by its team name so it is easier to access in our simulation"
   ]
  },
  {
   "cell_type": "code",
   "execution_count": 161,
   "id": "6381d025",
   "metadata": {},
   "outputs": [
    {
     "name": "stdout",
     "output_type": "stream",
     "text": [
      "Washington Averages\n",
      "Offense      -1.191875\n",
      "Defense      -1.298750\n",
      "Tm           18.437500\n",
      "OppScore     21.062500\n",
      "Sp. Tms      -0.253750\n",
      "TO            1.375000\n",
      "1stD         20.187500\n",
      "TotYd       331.625000\n",
      "PassY       207.125000\n",
      "RushY       124.500000\n",
      "Opp1stD      17.250000\n",
      "OppTotYd    312.250000\n",
      "OppPassY    195.875000\n",
      "OppRushY    116.375000\n",
      "OppTO         1.000000\n",
      "Name: was, dtype: float64\n"
     ]
    }
   ],
   "source": [
    "league_avg=allmeans.mean()\n",
    "\n",
    "for x in TeamLst:\n",
    "    globals()[f'{x}'] =[allmeans.loc[x],allStds.loc[x]]\n",
    "print(\"Washington Averages\")\n",
    "print(was[0])"
   ]
  },
  {
   "cell_type": "code",
   "execution_count": 243,
   "id": "3ce67ffc",
   "metadata": {},
   "outputs": [],
   "source": [
    "# Full Point Total Simulation\n",
    "from matplotlib import pyplot as plt\n",
    "\n",
    "def bootstrap(x, confidence=.68, nSamples=100):\n",
    "    # Make \"nSamples\" new datasets by re-sampling x with replacement\n",
    "    # the size of the samples should be the same as x itself\n",
    "    means = []\n",
    "    for k in range(nSamples):\n",
    "        sample = np.random.choice(x, size=len(x), replace=True)\n",
    "        means.append(np.mean(sample))\n",
    "    means.sort()\n",
    "    leftTail = int(((1.0 - confidence)/2) * nSamples)\n",
    "    rightTail = (nSamples - 1) - leftTail\n",
    "    return round(np.mean(x),2)\n",
    "\n",
    "class MonteCarlo:\n",
    "    def SimulateOnce(self):\n",
    "        raise NotImplementedError   \n",
    "    # This function computes the value at risk amount for the results of a simulation\n",
    "    # It can only be run after the main simulation is run, so in this funciton we\n",
    "    # test for whether the results member exists and if not, print an error    \n",
    "    def var(self, risk = .05):\n",
    "        if hasattr(self, \"results\"):               # See if the results have been calculated \n",
    "            self.results.sort()                    # Sort them\n",
    "            index = int(len(self.results)*risk)    # Count them and multiply by the risk factor  \n",
    "            return(self.results[index])            # Return the value at that index\n",
    "        else:\n",
    "            print(\"RunSimulation must be executed before the method 'var'\")\n",
    "            return 0.0\n",
    "\n",
    "    # This function runs the simulation.  Note that it stores the results of each of the\n",
    "    # trials in an array that is a CLASS variable, not a local variable in this function\n",
    "    # so, we can get this array from the MonteCarlo object after running if we wish.\n",
    "    def RunSimulation(self, threshold=.001, simCount=10000):\n",
    "        self.results = []       # Array to hold the results\n",
    "        sum1 = 0.0              # Sum of the results\n",
    "        sum2 = 0.0              # Sum of the results^2\n",
    "        \n",
    "        # Now, we set up the simulation loop\n",
    "        self.convergence = False\n",
    "        for k in range(simCount): \n",
    "            x = self.SimulateOnce()  \n",
    "            # Run the simulation\n",
    "            self.results.append(x)      # Add the result to the array\n",
    "            sum1 += x                   # Add it to the sum\n",
    "            sum2 += x*x                 # Add the square to the sum of squares\n",
    "            \n",
    "            # Go to at least a 100 cycles before testing for convergence.             \n",
    "            if k > 100:\n",
    "                mu = float(sum1)/k                  # Compute the mean\n",
    "                var = (float(sum2)/(k-1)) - mu*mu   # An alternate calculation of the variance\n",
    "                dmu = np.sqrt(var / k)              # Standard error of the mean\n",
    "                                                    \n",
    "                # If the estimate of the error in mu is within \"threshold\" percent\n",
    "                # then set convergence to true.  We could also break out early at this \n",
    "                # point if we wanted to \n",
    "                if dmu < abs(mu) * threshold:\n",
    "                    self.convergence = True  \n",
    "        # Bootstrap the results and return not only the mean, but the confidence interval\n",
    "        # as well.  [mean - se, mean, mean + se]\n",
    "        plt.hist(self.results, 20,edgecolor='black')\n",
    "        font1 = {'family':'serif','color':'darkred','size':15}\n",
    "        plt.xlabel(\"Points Scored\",fontdict = font1)\n",
    "        plt.ylabel(\"Simulations\",fontdict = font1)\n",
    "        plt.title(\"Simulation Results\",fontdict = font1)\n",
    "        plt.show()\n",
    "        return bootstrap(self.results)\n",
    "    \n",
    "class nflScores(MonteCarlo):\n",
    "    def __init__(self,team,opponent):\n",
    "        self.team     = team\n",
    "        self.opponent = opponent\n",
    "        \n",
    "        self.off_epa_avg = team[0][0]\n",
    "        self.def_epa_avg = team[0][1]\n",
    "        self.st_ep_avg   = team[0][4]\n",
    "        self.to_Avg      = team[0][5]\n",
    "        self.totalYards_avg = team[0][7]\n",
    "        \n",
    "        self.off_epa_sd = team[1][0]\n",
    "        self.def_epa_sd = team[1][1]\n",
    "        self.st_epa_sd  = team[1][4]\n",
    "        self.to_sd      = team[1][5]\n",
    "        self.totalYards_sd   = team[1][7]\n",
    "        \n",
    "        self.opp_to_avg      = opponent[0][5]\n",
    "        self.opp_off_epa_avg = opponent[0][0]\n",
    "        self.opp_def_epa_avg = opponent[0][1]\n",
    "        self.opp_totalYards_avg   = opponent[0][7]\n",
    "        \n",
    "        self.opp_off_epa_sd  = opponent[1][0]\n",
    "        self.opp_def_epa_sd  = opponent [1][1]\n",
    "        self.opp_totalYards_sd   = opponent[1][7]\n",
    "\n",
    "    def SimulateOnce(self):\n",
    "        #Covariance between Offensive EPA and Total Yards\n",
    "        offensiveCov=np.array([[146.179,759.455],[759.455188,7246.630954]])\n",
    "        offensiveMean= (self.off_epa_avg,self.totalYards_avg) \n",
    "        #Accounts for the covariance between offensive epa and total yards\n",
    "        offEP,totYd =np.random.multivariate_normal(offensiveMean,offensiveCov).T \n",
    "        \n",
    "        opp_offensiveMean= (self.opp_off_epa_avg,self.opp_totalYards_avg)\n",
    "        opp_off_EP,opp_totYd =np.random.multivariate_normal(offensiveMean,offensiveCov).T \n",
    "\n",
    "        defEP=np.random.normal(self.def_epa_avg,self.def_epa_sd)\n",
    "        opp_Def_EP=np.random.normal(self.opp_def_epa_avg, self.opp_def_epa_sd)\n",
    "        offEP=(offEP-opp_Def_EP)/2\n",
    "        defEP=(defEP-opp_off_EP)/2\n",
    "        stEP=np.random.normal(self.st_ep_avg,self.st_epa_sd)\n",
    "        \n",
    "        to=round(np.random.exponential(self.to_Avg))\n",
    "        oppTo=round(np.random.exponential( self.opp_to_avg))\n",
    " \n",
    "        points= 5.0 + (0.69*offEP) + (0.27*defEP) + (0.43*stEP) + (1.06*to) + (0.0174*totYd) + (1.27*oppTo) + (opp_totYd*0.0208)\n",
    "        return max(points,0)       #This forces the projection to be non-negative\n",
    "    \n",
    "def namestr(obj, namespace):\n",
    "    return [name for name in namespace if namespace[name] is obj]"
   ]
  },
  {
   "cell_type": "code",
   "execution_count": 218,
   "id": "6e7284e8",
   "metadata": {},
   "outputs": [],
   "source": [
    "def gameSim(team,opponent):\n",
    "    sim=nflScores(team,opponent)\n",
    "    teamScore=sim.RunSimulation()\n",
    "    sim=nflScores(opponent,team)\n",
    "    opponentScore=sim.RunSimulation()\n",
    "    total=round((teamScore+opponentScore),1)\n",
    "    print(str(total) +\" is the projected point total\")\n",
    "    if teamScore > opponentScore:\n",
    "        dif=round((teamScore-opponentScore),1)\n",
    "        print((namestr(team, globals())[0])+\" is projected to win by \"+ str(dif)+\" points\")\n",
    "    else:\n",
    "        dif=round((opponentScore-teamScore),1)\n",
    "        print((namestr(opponent, globals())[0])+\" is projected to win by \"+ str(dif)+\" points\")"
   ]
  },
  {
   "cell_type": "code",
   "execution_count": 258,
   "id": "76bb1369",
   "metadata": {},
   "outputs": [
    {
     "data": {
      "image/png": "[encoded data removed]",
      "text/plain": [
       "<Figure size 432x288 with 1 Axes>"
      ]
     },
     "metadata": {
      "needs_background": "light"
     },
     "output_type": "display_data"
    },
    {
     "data": {
      "image/png": "[encoded data removed]",
      "text/plain": [
       "<Figure size 432x288 with 1 Axes>"
      ]
     },
     "metadata": {
      "needs_background": "light"
     },
     "output_type": "display_data"
    },
    {
     "name": "stdout",
     "output_type": "stream",
     "text": [
      "49.2 is the projected point total\n",
      "kan is projected to win by 1.2 points\n"
     ]
    }
   ],
   "source": [
    "#Game Simulation\n",
    "gameSim(kan,cin)"
   ]
  }
 ],
 "metadata": {
  "kernelspec": {
   "display_name": "Python 3",
   "language": "python",
   "name": "python3"
  },
  "language_info": {
   "codemirror_mode": {
    "name": "ipython",
    "version": 3
   },
   "file_extension": ".py",
   "mimetype": "text/x-python",
   "name": "python",
   "nbconvert_exporter": "python",
   "pygments_lexer": "ipython3",
   "version": "3.8.8"
  }
 },
 "nbformat": 4,
 "nbformat_minor": 5
}
